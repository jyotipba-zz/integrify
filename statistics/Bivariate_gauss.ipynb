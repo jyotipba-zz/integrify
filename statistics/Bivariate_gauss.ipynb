{
 "cells": [
  {
   "cell_type": "markdown",
   "metadata": {},
   "source": [
    "### Assignment 2 : Bivariate Gaussian + Linear Transformation of Gaussians "
   ]
  },
  {
   "cell_type": "markdown",
   "metadata": {},
   "source": [
    "####  Explain in your own words what effect does the choice of Covariance matrix have on the Bivariate Gaussian (compare spherical, elliptical)What does it mean when the covariance matrix is not diagonal? "
   ]
  },
  {
   "cell_type": "markdown",
   "metadata": {},
   "source": [
    "The iso-contour of 2D Gaussian distribution is determined by covariance matrix. In the case of diagonal covariance matrix and equal variance  major axis of the ellipse will be the axis- aligned and ellipse would be spherical in shape. And in the case of zero covariance and unequal variance, the data would spread along the axis of highest variance. \n",
    "\n",
    "In cases where the data is correlated, such that a covariance exists, the resulting ellipse will not be axis aligned. In such case, ellipse will rotate along the direction of highest eigen vector of covariance matrix."
   ]
  },
  {
   "cell_type": "markdown",
   "metadata": {},
   "source": [
    "## Question 2 \n",
    "### Task 1\n",
    "##### The parameter of y \n",
    "\\begin{align}\n",
    "\\mu_y = E[y] = E(Ax+b) \\\\\n",
    "= A E[x]+E[b]\n",
    "= A \\mu_x \\\\\n",
    "\\mu_y = A \\mu_x\n",
    "\\end{align}\n",
    "\n",
    "##### Now  the covariance \n",
    "\n",
    "\\begin{align}\n",
    "\\sum_{y} = Var(Ax+b) = Var(Ax)+Var(b) = Var(Ax) \\\\\n",
    "= E[(A(x-\\mu)((x-\\mu)^t))]\n",
    "= E(A(x_\\mu)(x-\\mu)^tA^t) = AE[(x-\\mu)(x-u)^t]A^t \\\\\n",
    "= A(Var(x)A^t) \\\\\n",
    "= A \\sum_xA^t\n",
    "\\end{align}\n"
   ]
  },
  {
   "cell_type": "markdown",
   "metadata": {},
   "source": [
    "## Question 2 \n",
    "### Task 2\n",
    "##### Joint distribution \n",
    "$$\\vec{Z} = [\\vec{x},\\vec{y}]^t$$\n",
    "\n",
    "\\begin{align}\n",
    "\\mu_z = \\begin{pmatrix} \\mu_x \\\\ \\mu_y \\end{pmatrix} \\\\\n",
    "=  \\begin{pmatrix} \\mu_x \\\\ A\\mu_x \\end{pmatrix}\n",
    "\\end{align}\n",
    " Now the covariance \n",
    "\\begin{align}\n",
    "Cov(\\vec{X},\\vec{Y}) = E[\\vec{X} \\vec{Y}^T]-E[X].E[Y] \\\\\n",
    "= E[X(AX+b)^t]-E[X].E[(AX+b)^t]\\\\\n",
    "= E[X(X^TA^T+b^t)]-\\mu_x. \\mu_x^t . A^t \\\\\n",
    "= E[XX^tA^t + Xb^t] - \\mu_x. \\mu_x^t . A^t \\\\\n",
    "= E[XX^tA^T] -\\mu_x. \\mu_x^t . A^t \\\\\n",
    "= A^TE[XX^t]-\\mu_x. \\mu_x^t . A^t \\\\\n",
    "= (E[XX^t]-\\mu_x. \\mu_x^t)A^t\n",
    "= (E[XX^t]-E[X]E[X^t]) A^t\\\\\n",
    "= \\sum_xA^t\n",
    "\\end{align}\n",
    "\n"
   ]
  },
  {
   "cell_type": "markdown",
   "metadata": {},
   "source": [
    "#### What is the meaning of Mahalanobis distance? What is the relation of this to the eigenvalues of the Covariance matrix? Draw a sketch either in Python or by hand for the Bivariate case (K=2) "
   ]
  },
  {
   "cell_type": "markdown",
   "metadata": {},
   "source": [
    "Mahalanobis distance is distance between two points in multivariate space. Mahalanobis distance accounts for variance between variables."
   ]
  }
 ],
 "metadata": {
  "kernelspec": {
   "display_name": "Python 3",
   "language": "python",
   "name": "python3"
  },
  "language_info": {
   "codemirror_mode": {
    "name": "ipython",
    "version": 3
   },
   "file_extension": ".py",
   "mimetype": "text/x-python",
   "name": "python",
   "nbconvert_exporter": "python",
   "pygments_lexer": "ipython3",
   "version": "3.7.3"
  },
  "varInspector": {
   "cols": {
    "lenName": 16,
    "lenType": 16,
    "lenVar": 40
   },
   "kernels_config": {
    "python": {
     "delete_cmd_postfix": "",
     "delete_cmd_prefix": "del ",
     "library": "var_list.py",
     "varRefreshCmd": "print(var_dic_list())"
    },
    "r": {
     "delete_cmd_postfix": ") ",
     "delete_cmd_prefix": "rm(",
     "library": "var_list.r",
     "varRefreshCmd": "cat(var_dic_list()) "
    }
   },
   "types_to_exclude": [
    "module",
    "function",
    "builtin_function_or_method",
    "instance",
    "_Feature"
   ],
   "window_display": false
  }
 },
 "nbformat": 4,
 "nbformat_minor": 2
}
