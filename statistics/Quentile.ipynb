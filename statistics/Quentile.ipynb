{
 "cells": [
  {
   "cell_type": "code",
   "execution_count": 5,
   "metadata": {},
   "outputs": [],
   "source": [
    "import numpy as np\n",
    "import statsmodels.api as sm\n",
    "import pylab\n",
    "import random"
   ]
  },
  {
   "cell_type": "code",
   "execution_count": 72,
   "metadata": {},
   "outputs": [],
   "source": [
    "test = np.random.normal (20,5, 1000)\n"
   ]
  },
  {
   "cell_type": "code",
   "execution_count": 73,
   "metadata": {},
   "outputs": [
    {
     "data": {
      "image/png": "[encoded data removed]",
      "text/plain": [
       "<Figure size 432x288 with 1 Axes>"
      ]
     },
     "metadata": {
      "needs_background": "light"
     },
     "output_type": "display_data"
    }
   ],
   "source": [
    "sm.qqplot(test,loc = 20, scale =5, line ='45')\n",
    "pylab.show()"
   ]
  },
  {
   "cell_type": "markdown",
   "metadata": {},
   "source": [
    "## Explain why the points don’t lie on the line y=x \n",
    "Ans : Above grapical diagram is of qqplot. qqplot is used to check if two sets of data comes from same population distribution. For example, if we run a statistical analysis that assumes our dependent variable is Normally distributed, we can use a Normal Q-Q plot to check that assumption. In qq plot,  a 45-degree refrence line is plotted (red line in above figure). If two sets of data come from same population, they tends to fall along the refrence line. In above example, qq plot from statsmodel is used. test data is generated from normal distribution \n",
    "with mean 20 and standard deviation of 5 which is compated aganist 'dist'. The default is scipy.stats.distributions.norm (a standard normal). loc and scale parameter are Location parameter and Scale parameter of dist respectively. Looking at blue data points, some points are not along same line, which means they might be outlier due to random generation of data."
   ]
  },
  {
   "cell_type": "code",
   "execution_count": null,
   "metadata": {},
   "outputs": [],
   "source": []
  },
  {
   "cell_type": "markdown",
   "metadata": {},
   "source": [
    "#### Explain in your own words what is standard error of the mean (refer to the respective page here). \n",
    "Standard error of the mean (SEM) is the standard deviation of sampling distribution of mean. This is descriptive statistic. SEM tells how accurate is our estimate of the mean is likely to be.Confidence interval and SEM serves similiar purpose, to estiamte the reliability of estimate of mean."
   ]
  },
  {
   "cell_type": "markdown",
   "metadata": {},
   "source": [
    "### Also simulate SEM example using NumPy. \n",
    "######  I'll leave it up to you how to present it, but the concept of SEM should clearly come out from the simulation. "
   ]
  },
  {
   "cell_type": "code",
   "execution_count": null,
   "metadata": {},
   "outputs": [],
   "source": []
  },
  {
   "cell_type": "code",
   "execution_count": 7,
   "metadata": {},
   "outputs": [],
   "source": [
    "# Lets generate random population with true mean of  3.\n",
    "data = list(np.random.normal(3,1, 30))\n",
    "\n"
   ]
  },
  {
   "cell_type": "code",
   "execution_count": 17,
   "metadata": {},
   "outputs": [
    {
     "data": {
      "text/plain": [
       "[2.9965517319127826,\n",
       " 3.0752155688768106,\n",
       " 3.170660277237242,\n",
       " 3.1746704356694004,\n",
       " 3.1539637946938854,\n",
       " 3.322632107427309,\n",
       " 3.2581748465145792,\n",
       " 2.7061400668177504,\n",
       " 3.105529660266396,\n",
       " 2.59375518404234]"
      ]
     },
     "execution_count": 17,
     "metadata": {},
     "output_type": "execute_result"
    }
   ],
   "source": [
    "## Let take random 10 random samples with size of 8 from above generated data and calulate the mean of those sampls\n",
    "sample_mean = []\n",
    "for i in range (10):\n",
    "    random_one = random.sample(data, 5)\n",
    "    sample_mean.append(np.array(random_one).mean())\n",
    "    \n",
    "sample_mean"
   ]
  },
  {
   "cell_type": "markdown",
   "metadata": {},
   "source": [
    "We can see that sample means are not exactly 3. We can estimate how close in our sample mean with  \n",
    "true parametric mean by calculating the standard error of the mean, which is the standard deviation of the different sample means"
   ]
  },
  {
   "cell_type": "code",
   "execution_count": 19,
   "metadata": {},
   "outputs": [
    {
     "data": {
      "text/plain": [
       "0.22163527202159225"
      ]
     },
     "execution_count": 19,
     "metadata": {},
     "output_type": "execute_result"
    }
   ],
   "source": [
    "np.std(sample_mean)"
   ]
  },
  {
   "cell_type": "code",
   "execution_count": 44,
   "metadata": {},
   "outputs": [
    {
     "data": {
      "text/plain": [
       "0.21343033444825119"
      ]
     },
     "execution_count": 44,
     "metadata": {},
     "output_type": "execute_result"
    }
   ],
   "source": [
    " # When we don't have enough samples to estiamte SEM, we can estimate SEM from single samples with formula \n",
    "random_one = random.sample(data, 5)\n",
    "standard_deviation = np.std(random_one)\n",
    "SEM = standard_deviation/np.sqrt(5)\n",
    "SEM"
   ]
  },
  {
   "cell_type": "code",
   "execution_count": null,
   "metadata": {},
   "outputs": [],
   "source": []
  },
  {
   "cell_type": "code",
   "execution_count": null,
   "metadata": {},
   "outputs": [],
   "source": []
  }
 ],
 "metadata": {
  "kernelspec": {
   "display_name": "Python 3",
   "language": "python",
   "name": "python3"
  },
  "language_info": {
   "codemirror_mode": {
    "name": "ipython",
    "version": 3
   },
   "file_extension": ".py",
   "mimetype": "text/x-python",
   "name": "python",
   "nbconvert_exporter": "python",
   "pygments_lexer": "ipython3",
   "version": "3.7.3"
  },
  "varInspector": {
   "cols": {
    "lenName": 16,
    "lenType": 16,
    "lenVar": 40
   },
   "kernels_config": {
    "python": {
     "delete_cmd_postfix": "",
     "delete_cmd_prefix": "del ",
     "library": "var_list.py",
     "varRefreshCmd": "print(var_dic_list())"
    },
    "r": {
     "delete_cmd_postfix": ") ",
     "delete_cmd_prefix": "rm(",
     "library": "var_list.r",
     "varRefreshCmd": "cat(var_dic_list()) "
    }
   },
   "types_to_exclude": [
    "module",
    "function",
    "builtin_function_or_method",
    "instance",
    "_Feature"
   ],
   "window_display": false
  }
 },
 "nbformat": 4,
 "nbformat_minor": 2
}
