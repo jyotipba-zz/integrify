{
 "cells": [
  {
   "cell_type": "markdown",
   "metadata": {},
   "source": [
    "## covariance formula\n",
    "\\begin{align}\n",
    "COV(X,Y)  = \\frac{\\sum (X_i-\\bar{X})(Y_j-\\bar{Y})}{n} \\\\\n",
    "Where \\\\\n",
    "X_i \\text{ the values of the X-variable} \\\\\n",
    "Y_j \\text { the values of the Y-variable} \\\\\n",
    "X̄  \\text{ the mean (average) of the X-variable} \\\\\n",
    "Ȳ \\text{ the mean (average) of the Y-variable} \\\\\n",
    "n  \\text{ the number of the data points}\n",
    "\\end{align}\n"
   ]
  },
  {
   "cell_type": "markdown",
   "metadata": {},
   "source": [
    "#### Define Bias of an estimator \n",
    "\n",
    "Ans: The bias of estimator is the differece between the expected value of estimator and the true value of the parameter being estimated."
   ]
  },
  {
   "cell_type": "markdown",
   "metadata": {},
   "source": [
    "#### Add properties of Covariance Matrix in Mathematical Notation \n",
    "- The covariance matrix is symmetric. i.e  \\begin{align}\n",
    "COV(X,Y) = COV(Y,X)\n",
    "\\end{align}\n",
    "\n",
    "- The diagonal entries of the covariance matrix are the variances and the other entries are the covariances. \n",
    "- Covariance of independent variables. If X X and Y Y are independent random variables, then Cov(X,Y)=0."
   ]
  },
  {
   "cell_type": "code",
   "execution_count": null,
   "metadata": {},
   "outputs": [],
   "source": []
  }
 ],
 "metadata": {
  "kernelspec": {
   "display_name": "Python 3",
   "language": "python",
   "name": "python3"
  },
  "language_info": {
   "codemirror_mode": {
    "name": "ipython",
    "version": 3
   },
   "file_extension": ".py",
   "mimetype": "text/x-python",
   "name": "python",
   "nbconvert_exporter": "python",
   "pygments_lexer": "ipython3",
   "version": "3.7.3"
  },
  "varInspector": {
   "cols": {
    "lenName": 16,
    "lenType": 16,
    "lenVar": 40
   },
   "kernels_config": {
    "python": {
     "delete_cmd_postfix": "",
     "delete_cmd_prefix": "del ",
     "library": "var_list.py",
     "varRefreshCmd": "print(var_dic_list())"
    },
    "r": {
     "delete_cmd_postfix": ") ",
     "delete_cmd_prefix": "rm(",
     "library": "var_list.r",
     "varRefreshCmd": "cat(var_dic_list()) "
    }
   },
   "types_to_exclude": [
    "module",
    "function",
    "builtin_function_or_method",
    "instance",
    "_Feature"
   ],
   "window_display": false
  }
 },
 "nbformat": 4,
 "nbformat_minor": 2
}
