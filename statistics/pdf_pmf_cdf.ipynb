{
 "cells": [
  {
   "cell_type": "code",
   "execution_count": 151,
   "metadata": {},
   "outputs": [],
   "source": [
    "import pandas as pd\n",
    "import numpy as np\n",
    "from collections import Counter\n",
    "import matplotlib.pyplot as plt\n",
    "from scipy import stats\n",
    "from functools import partial\n",
    "%matplotlib inline\n"
   ]
  },
  {
   "cell_type": "markdown",
   "metadata": {},
   "source": [
    "##### How to create a PDF in Python? Remember we introduced Probabilistic Programming. One of the most popular libraries for this is PYMC3.  How to create a PMF in Python? How to create a CDF in Python? "
   ]
  },
  {
   "cell_type": "markdown",
   "metadata": {},
   "source": [
    "One of the way to create PDF, PMF and CDF in Python is to use scipy.stats package. \n",
    "The value of the PDF at any value of the variate can be obtained using the function pdf of the respective distribution.\n"
   ]
  },
  {
   "cell_type": "code",
   "execution_count": 152,
   "metadata": {},
   "outputs": [
    {
     "data": {
      "text/plain": [
       "0.3989422804014327"
      ]
     },
     "execution_count": 152,
     "metadata": {},
     "output_type": "execute_result"
    }
   ],
   "source": [
    "# PDF of Gaussian of mean = 0.0 and std. deviation = 1.0 at 0.\n",
    "stats.norm.pdf(0, loc=0.0, scale=1.0)\n",
    "0.3989422804014327"
   ]
  },
  {
   "cell_type": "code",
   "execution_count": 154,
   "metadata": {},
   "outputs": [
    {
     "data": {
      "text/plain": [
       "array([0.39695255, 0.39894228, 0.39695255])"
      ]
     },
     "execution_count": 154,
     "metadata": {},
     "output_type": "execute_result"
    }
   ],
   "source": [
    "## We can also pass an array of values to this function, to get the PDF at the specified values of the variate:\n",
    "stats.norm.pdf([-0.1, 0.0, 0.1], loc=0.0, scale=1.0)\n"
   ]
  },
  {
   "cell_type": "markdown",
   "metadata": {},
   "source": [
    "For discrete variates the probability mass function (PMF) gives the probability of the variate having a value x.\n"
   ]
  },
  {
   "cell_type": "code",
   "execution_count": 155,
   "metadata": {},
   "outputs": [
    {
     "name": "stdout",
     "output_type": "stream",
     "text": [
      "[0.00097656 0.00976563 0.04394531 0.1171875  0.20507813 0.24609375\n",
      " 0.20507813 0.1171875  0.04394531 0.00976563 0.00097656]\n"
     ]
    }
   ],
   "source": [
    "# For example,for a binomial distribution with p = 0.5 and number of trials n = 10 \n",
    "# we can calculate the PMF as follows\n",
    "tries = range(11) # 0 to 10\n",
    "print(stats.binom.pmf(tries, 10, 0.5))"
   ]
  },
  {
   "cell_type": "markdown",
   "metadata": {},
   "source": [
    "CDF gives the probability that the variate has a value less than or equal to the given value."
   ]
  },
  {
   "cell_type": "code",
   "execution_count": 156,
   "metadata": {},
   "outputs": [
    {
     "data": {
      "text/plain": [
       "0.5"
      ]
     },
     "execution_count": 156,
     "metadata": {},
     "output_type": "execute_result"
    }
   ],
   "source": [
    "stats.norm.cdf(0.0, loc=0.0, scale=1.0)"
   ]
  },
  {
   "cell_type": "markdown",
   "metadata": {},
   "source": [
    "####  Create a function that converts any list into a PMF.  "
   ]
  },
  {
   "cell_type": "code",
   "execution_count": null,
   "metadata": {},
   "outputs": [],
   "source": []
  },
  {
   "cell_type": "code",
   "execution_count": 157,
   "metadata": {},
   "outputs": [],
   "source": [
    "def sort_series(fnc):\n",
    "    \n",
    "    \"\"\" Decorator to sort the series of probability based on series index\"\"\"\n",
    "    \n",
    "    def wrapper(*args, **kwargs):\n",
    "        prob = fnc(*args, **kwargs)\n",
    "        prob_series = pd.Series(prob)\n",
    "        prob_series.sort_index(inplace=True)\n",
    "        return prob_series\n",
    "    return wrapper "
   ]
  },
  {
   "cell_type": "code",
   "execution_count": 53,
   "metadata": {},
   "outputs": [],
   "source": [
    "numbers = [12,10,8,13,15,2,12,8,13,10]\n",
    "@sort_series\n",
    "def pmf(numbers):\n",
    "    \"\"\"\n",
    "     Finds the pmf given the list\n",
    "\n",
    "    @parameter numbers - is a list of values. \n",
    "      \n",
    "    \"\"\"\n",
    "    count = Counter(numbers)\n",
    "    length =len(numbers)\n",
    "    prob = {key: count[key]/length for key in count}\n",
    "    #num_prob = dict(count.keys(), prob)\n",
    "    return prob"
   ]
  },
  {
   "cell_type": "code",
   "execution_count": 70,
   "metadata": {},
   "outputs": [
    {
     "data": {
      "text/plain": [
       "Text(0, 0.5, ' probability')"
      ]
     },
     "execution_count": 70,
     "metadata": {},
     "output_type": "execute_result"
    },
    {
     "data": {
      "image/png": "[encoded data removed]",
      "text/plain": [
       "<Figure size 432x288 with 1 Axes>"
      ]
     },
     "metadata": {
      "needs_background": "light"
     },
     "output_type": "display_data"
    }
   ],
   "source": [
    "prob_series = (pmf(numbers))\n",
    "ax=prob_series.plot(kind='bar', title='probability mass function')\n",
    "ax.set_xlabel(\"values\")\n",
    "ax.set_ylabel(\" probability\")"
   ]
  },
  {
   "cell_type": "code",
   "execution_count": null,
   "metadata": {},
   "outputs": [],
   "source": [
    "\n"
   ]
  },
  {
   "cell_type": "markdown",
   "metadata": {},
   "source": [
    "##### [Functional Programming] Using the given lambda expression, tabulate the derived CDF at 4 arbitrarily chosen values (you can define them yourself). \n",
    "\n"
   ]
  },
  {
   "cell_type": "code",
   "execution_count": 103,
   "metadata": {},
   "outputs": [
    {
     "data": {
      "image/png": "[encoded data removed]",
      "text/plain": [
       "<Figure size 432x288 with 1 Axes>"
      ]
     },
     "metadata": {
      "needs_background": "light"
     },
     "output_type": "display_data"
    }
   ],
   "source": [
    "cumulative = np.cumsum(prob) # cumulative distribution \n",
    "\n",
    "plt.plot([2,8,10,12,13,15], cumulative)\n",
    "plt.title('Emperical CDF')\n",
    "plt.xlabel('value', fontsize=18)\n",
    "plt.ylabel('CDF', fontsize=16)\n",
    "plt.show()\n",
    "\n"
   ]
  },
  {
   "cell_type": "code",
   "execution_count": null,
   "metadata": {},
   "outputs": [],
   "source": [
    "f = lambda x: np.interp(x, [8,10,12] ,[.30000000000000004, 0.5, 0.7]) ## deriving the cdf \n",
    "derived_cdf = f([8,9,10,11,12] )"
   ]
  },
  {
   "cell_type": "code",
   "execution_count": 98,
   "metadata": {},
   "outputs": [
    {
     "data": {
      "image/png": "[encoded data removed]",
      "text/plain": [
       "<Figure size 432x288 with 1 Axes>"
      ]
     },
     "metadata": {
      "needs_background": "light"
     },
     "output_type": "display_data"
    }
   ],
   "source": [
    "plt.plot([8,9,10,11,12], derived_cdf)\n",
    "plt.title('Derived CDF')\n",
    "plt.xlabel('value', fontsize=18)\n",
    "plt.ylabel('CDF', fontsize=16)\n",
    "plt.show()\n",
    "\n"
   ]
  },
  {
   "cell_type": "markdown",
   "metadata": {},
   "source": [
    "#### Percentiles "
   ]
  },
  {
   "cell_type": "code",
   "execution_count": 107,
   "metadata": {},
   "outputs": [],
   "source": [
    "def percentile(N, percent, key=lambda x:x): \n",
    "\n",
    "    \"\"\" \n",
    "\n",
    "    Find the percentile of a list of values. \n",
    "\n",
    " \n",
    "\n",
    "    @parameter N - is a list of values. Note N MUST BE already sorted. \n",
    "\n",
    "    @parameter percent - a float value from 0.0 to 1.0. \n",
    "\n",
    "    @parameter key - optional key function to compute value from each element of N. \n",
    "\n",
    " \n",
    "\n",
    "    @return - the percentile of the values \n",
    "\n",
    "    \"\"\" \n",
    "\n",
    "    if N is None: \n",
    "\n",
    "        return None \n",
    "\n",
    "    k = (len(N)-1) * percent \n",
    "\n",
    "    f = math.floor(k) \n",
    "\n",
    "    c = math.ceil(k) \n",
    "\n",
    "    if f == c: \n",
    "\n",
    "        return key(N[int(k)]) \n",
    "\n",
    "    d0 = key(N[int(f)]) * (c-k) \n",
    "\n",
    "    d1 = key(N[int(c)]) * (k-f) \n",
    "\n",
    "    return d0+d1 "
   ]
  },
  {
   "cell_type": "code",
   "execution_count": 110,
   "metadata": {},
   "outputs": [
    {
     "data": {
      "text/plain": [
       "11.6"
      ]
     },
     "execution_count": 110,
     "metadata": {},
     "output_type": "execute_result"
    }
   ],
   "source": [
    "percentile([8,9,10,11,12], .9)"
   ]
  },
  {
   "cell_type": "markdown",
   "metadata": {},
   "source": [
    "##### [Functional Programming] Define a partial function that always find the 25% of a given array (first quartile). Use the percentile function definition given below. "
   ]
  },
  {
   "cell_type": "code",
   "execution_count": 146,
   "metadata": {},
   "outputs": [
    {
     "data": {
      "text/plain": [
       "3.0"
      ]
     },
     "execution_count": 146,
     "metadata": {},
     "output_type": "execute_result"
    }
   ],
   "source": [
    "first_quantile = partial(percentile, percent = .25 )\n",
    "first_quantile([1, 3, 3, 4, 5, 8, 8])\n"
   ]
  },
  {
   "cell_type": "code",
   "execution_count": null,
   "metadata": {},
   "outputs": [],
   "source": []
  },
  {
   "cell_type": "code",
   "execution_count": null,
   "metadata": {},
   "outputs": [],
   "source": []
  },
  {
   "cell_type": "code",
   "execution_count": 141,
   "metadata": {},
   "outputs": [],
   "source": []
  },
  {
   "cell_type": "code",
   "execution_count": null,
   "metadata": {},
   "outputs": [],
   "source": []
  },
  {
   "cell_type": "code",
   "execution_count": null,
   "metadata": {},
   "outputs": [],
   "source": []
  }
 ],
 "metadata": {
  "kernelspec": {
   "display_name": "Python 3",
   "language": "python",
   "name": "python3"
  },
  "language_info": {
   "codemirror_mode": {
    "name": "ipython",
    "version": 3
   },
   "file_extension": ".py",
   "mimetype": "text/x-python",
   "name": "python",
   "nbconvert_exporter": "python",
   "pygments_lexer": "ipython3",
   "version": "3.7.3"
  },
  "varInspector": {
   "cols": {
    "lenName": 16,
    "lenType": 16,
    "lenVar": 40
   },
   "kernels_config": {
    "python": {
     "delete_cmd_postfix": "",
     "delete_cmd_prefix": "del ",
     "library": "var_list.py",
     "varRefreshCmd": "print(var_dic_list())"
    },
    "r": {
     "delete_cmd_postfix": ") ",
     "delete_cmd_prefix": "rm(",
     "library": "var_list.r",
     "varRefreshCmd": "cat(var_dic_list()) "
    }
   },
   "types_to_exclude": [
    "module",
    "function",
    "builtin_function_or_method",
    "instance",
    "_Feature"
   ],
   "window_display": false
  }
 },
 "nbformat": 4,
 "nbformat_minor": 2
}
