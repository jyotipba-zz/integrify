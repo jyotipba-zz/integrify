{
  "nbformat": 4,
  "nbformat_minor": 0,
  "metadata": {
    "colab": {
      "name": "Jyoti_Slah_Numpy.ipynb",
      "version": "0.3.2",
      "provenance": []
    },
    "language_info": {
      "codemirror_mode": {
        "name": "ipython",
        "version": 3
      },
      "file_extension": ".py",
      "mimetype": "text/x-python",
      "name": "python",
      "nbconvert_exporter": "python",
      "pygments_lexer": "ipython3",
      "version": "3.7.3"
    },
    "kernelspec": {
      "display_name": "Python 3",
      "language": "python",
      "name": "python3"
    }
  },
  "cells": [
    {
      "cell_type": "code",
      "metadata": {
        "id": "-UDo5g1ugLhk",
        "colab_type": "code",
        "colab": {
          "base_uri": "https://localhost:8080/",
          "height": 53
        },
        "outputId": "8619ba0f-89ab-46f2-f5a4-574270d9e10e"
      },
      "source": [
        "import numpy as np\n",
        "\n",
        "\n",
        "# 1 dimensional array\n",
        "data = [809, 731, 588, 18, 200, 70, 45]\n",
        "arr_1 = np.array(data)   # converting array to numpy array\n",
        "print(arr_1)\n",
        "arr_1.dtype    # printing data type"
      ],
      "execution_count": 1,
      "outputs": [
        {
          "output_type": "stream",
          "text": [
            "[809 731 588  18 200  70  45]\n"
          ],
          "name": "stdout"
        },
        {
          "output_type": "execute_result",
          "data": {
            "text/plain": [
              "dtype('int64')"
            ]
          },
          "metadata": {
            "tags": []
          },
          "execution_count": 1
        }
      ]
    },
    {
      "cell_type": "code",
      "metadata": {
        "id": "wa5UqbBSgLhq",
        "colab_type": "code",
        "colab": {
          "base_uri": "https://localhost:8080/",
          "height": 107
        },
        "outputId": "71a9ec9e-ef72-4727-d528-9b9a43eddf4b"
      },
      "source": [
        "\n",
        "data_two = [range(1, 5), range(5, 9)]  #list of lists\n",
        "arr_two= np.array(data_two) # 2 dimensional array\n",
        "print(arr_two)\n",
        "print(arr_two.ndim)   # dimension of array\n",
        "print(arr_two.shape)  # shape of the array\n",
        "\n",
        "# to convert array back to list  \n",
        "arr_two.tolist()"
      ],
      "execution_count": 4,
      "outputs": [
        {
          "output_type": "stream",
          "text": [
            "[[1 2 3 4]\n",
            " [5 6 7 8]]\n",
            "2\n",
            "(2, 4)\n"
          ],
          "name": "stdout"
        },
        {
          "output_type": "execute_result",
          "data": {
            "text/plain": [
              "[[1, 2, 3, 4], [5, 6, 7, 8]]"
            ]
          },
          "metadata": {
            "tags": []
          },
          "execution_count": 4
        }
      ]
    },
    {
      "cell_type": "code",
      "metadata": {
        "id": "oS029c2AgLhv",
        "colab_type": "code",
        "colab": {},
        "outputId": "d2b074b6-5c65-45ba-9bd7-21729ae70a74"
      },
      "source": [
        "np.zeros(10) #  new array of given shape and type, filled with zeros.\n"
      ],
      "execution_count": 0,
      "outputs": [
        {
          "output_type": "execute_result",
          "data": {
            "text/plain": [
              "array([0., 0., 0., 0., 0., 0., 0., 0., 0., 0.])"
            ]
          },
          "metadata": {
            "tags": []
          },
          "execution_count": 7
        }
      ]
    },
    {
      "cell_type": "code",
      "metadata": {
        "id": "xIOtqdz8gLhz",
        "colab_type": "code",
        "colab": {
          "base_uri": "https://localhost:8080/",
          "height": 143
        },
        "outputId": "c2f35380-25d8-45a0-ef01-c5118abb8eed"
      },
      "source": [
        "arr_three = np.zeros((3,6))\n",
        "print(arr_three)\n",
        "print(arr_three.ndim)\n",
        "print(arr_three.shape)\n",
        "print(arr_three.size)  # total number of elements\n",
        "len(arr_three)"
      ],
      "execution_count": 6,
      "outputs": [
        {
          "output_type": "stream",
          "text": [
            "[[0. 0. 0. 0. 0. 0.]\n",
            " [0. 0. 0. 0. 0. 0.]\n",
            " [0. 0. 0. 0. 0. 0.]]\n",
            "2\n",
            "(3, 6)\n",
            "18\n"
          ],
          "name": "stdout"
        },
        {
          "output_type": "execute_result",
          "data": {
            "text/plain": [
              "3"
            ]
          },
          "metadata": {
            "tags": []
          },
          "execution_count": 6
        }
      ]
    },
    {
      "cell_type": "code",
      "metadata": {
        "id": "83UCKw9ygLh3",
        "colab_type": "code",
        "colab": {},
        "outputId": "4c660160-3414-47fb-ac66-bd52129fcac5"
      },
      "source": [
        "np.ones(10)\n",
        "# # Returns a new array of given shape and type, setting values to 1."
      ],
      "execution_count": 0,
      "outputs": [
        {
          "output_type": "execute_result",
          "data": {
            "text/plain": [
              "array([1., 1., 1., 1., 1., 1., 1., 1., 1., 1.])"
            ]
          },
          "metadata": {
            "tags": []
          },
          "execution_count": 13
        }
      ]
    },
    {
      "cell_type": "code",
      "metadata": {
        "id": "0t8_0sZigLh6",
        "colab_type": "code",
        "colab": {},
        "outputId": "6b553c18-15a8-4439-9779-492499a9e976"
      },
      "source": [
        "np.linspace(0,1,5)\n",
        "\n",
        "## numpy.linspace(start, stop, num=50, endpoint=True, retstep=False, dtype=None, axis=0)\n",
        "# Return evenly spaced numbers over a specified interval.\n",
        "#Returns num evenly spaced samples, calculated over the interval [start, stop].\n",
        "# The endpoint of the interval can optionally be excluded."
      ],
      "execution_count": 0,
      "outputs": [
        {
          "output_type": "execute_result",
          "data": {
            "text/plain": [
              "array([0.  , 0.25, 0.5 , 0.75, 1.  ])"
            ]
          },
          "metadata": {
            "tags": []
          },
          "execution_count": 15
        }
      ]
    },
    {
      "cell_type": "code",
      "metadata": {
        "id": "yYv_f55sgLh_",
        "colab_type": "code",
        "colab": {},
        "outputId": "e42548a7-6644-499d-f7b2-faaebd2c38a5"
      },
      "source": [
        "# Return numbers spaced evenly on a log scale.\n",
        "np.logspace(0,3,4)\n",
        "# 10**0 to 10**3 with 4 number of samples"
      ],
      "execution_count": 0,
      "outputs": [
        {
          "output_type": "execute_result",
          "data": {
            "text/plain": [
              "array([   1.,   10.,  100., 1000.])"
            ]
          },
          "metadata": {
            "tags": []
          },
          "execution_count": 17
        }
      ]
    },
    {
      "cell_type": "code",
      "metadata": {
        "id": "SCLJpht0gLiE",
        "colab_type": "code",
        "colab": {},
        "outputId": "36410da7-4cf2-4fce-8c7e-baab458cc82f"
      },
      "source": [
        "array3 = np.arange(5)\n",
        "#print(array3)\n",
        "array4 = array3.astype(float) # to change the type of the array\n",
        "print(array4)\n",
        "print(array4.dtype) # float64\n",
        "print(array4.ndim)\n",
        "print(array4.shape)\n",
        "array4.size\n",
        "print(len(array4))"
      ],
      "execution_count": 0,
      "outputs": [
        {
          "output_type": "stream",
          "text": [
            "[0. 1. 2. 3. 4.]\n",
            "float64\n",
            "1\n",
            "(5,)\n",
            "5\n"
          ],
          "name": "stdout"
        }
      ]
    },
    {
      "cell_type": "markdown",
      "metadata": {
        "id": "Ore9wgfLgLiL",
        "colab_type": "text"
      },
      "source": [
        "4.3- Reshaping"
      ]
    },
    {
      "cell_type": "code",
      "metadata": {
        "id": "wri4-ejogLiM",
        "colab_type": "code",
        "colab": {},
        "outputId": "81655fed-f2fc-4462-b4c8-9db645fb828f"
      },
      "source": [
        "arr_5 = np.arange(20, dtype=float).reshape(2,10)\n",
        "print(arr_5)\n",
        "arr_5.reshape(5,4)\n"
      ],
      "execution_count": 0,
      "outputs": [
        {
          "output_type": "stream",
          "text": [
            "[[ 0.  1.  2.  3.  4.  5.  6.  7.  8.  9.]\n",
            " [10. 11. 12. 13. 14. 15. 16. 17. 18. 19.]]\n"
          ],
          "name": "stdout"
        },
        {
          "output_type": "execute_result",
          "data": {
            "text/plain": [
              "array([[ 0.,  1.,  2.,  3.],\n",
              "       [ 4.,  5.,  6.,  7.],\n",
              "       [ 8.,  9., 10., 11.],\n",
              "       [12., 13., 14., 15.],\n",
              "       [16., 17., 18., 19.]])"
            ]
          },
          "metadata": {
            "tags": []
          },
          "execution_count": 77
        }
      ]
    },
    {
      "cell_type": "markdown",
      "metadata": {
        "id": "hSqHHGHXgLiR",
        "colab_type": "text"
      },
      "source": [
        "Add an axis"
      ]
    },
    {
      "cell_type": "code",
      "metadata": {
        "id": "f2YnLZv_gLiS",
        "colab_type": "code",
        "colab": {},
        "outputId": "83b136e9-2ccd-4ff1-de2b-2d8c7838245a"
      },
      "source": [
        "x = np.array([0,1,2,3])\n",
        "print(x)\n",
        "#x_col = x[:, np.newaxis]\n",
        "x_col = x[:, None]\n",
        "print(x_col)\n",
        "print(x_col.T) # for one dimensional array it has no affect"
      ],
      "execution_count": 0,
      "outputs": [
        {
          "output_type": "stream",
          "text": [
            "[0 1 2 3]\n",
            "[[0]\n",
            " [1]\n",
            " [2]\n",
            " [3]]\n",
            "[[0 1 2 3]]\n"
          ],
          "name": "stdout"
        }
      ]
    },
    {
      "cell_type": "markdown",
      "metadata": {
        "id": "ATaURN49gLiV",
        "colab_type": "text"
      },
      "source": [
        ""
      ]
    },
    {
      "cell_type": "code",
      "metadata": {
        "id": "cQj5vZ9FgLiW",
        "colab_type": "code",
        "colab": {},
        "outputId": "75b41f5a-8fcf-4599-eafc-832829ae4230"
      },
      "source": [
        "ls_1 = [[5,8,9],[6,5,14],[23,12,7]]\n",
        "ar_1 = np.array(ls_1)\n",
        "print(ar_1.ndim)\n",
        "print(ar_1)\n",
        "#print(ar_1.T)\n",
        "ar_flat = ar_1.flatten() # will return a flat array\n",
        "print(ar_flat)\n",
        "ar_flat[0] = 33 # to change the value at index\n",
        "print(ar_flat)"
      ],
      "execution_count": 0,
      "outputs": [
        {
          "output_type": "stream",
          "text": [
            "2\n",
            "[[ 5  8  9]\n",
            " [ 6  5 14]\n",
            " [23 12  7]]\n",
            "[ 5  8  9  6  5 14 23 12  7]\n",
            "[33  8  9  6  5 14 23 12  7]\n"
          ],
          "name": "stdout"
        }
      ]
    },
    {
      "cell_type": "code",
      "metadata": {
        "id": "G4jI0hjSgLiZ",
        "colab_type": "code",
        "colab": {},
        "outputId": "970321cf-3c24-410e-d33b-dad300bb4c59"
      },
      "source": [
        "##Stack arrays\n",
        "\n",
        "arr = np.array([2,3])\n",
        "arr_1 = np.array([4,5])\n",
        "\n",
        "#arr_2 = np.stack((arr, arr_1))\n",
        "\n",
        "arr_2 = np.stack((arr, arr_1)).T\n",
        "print(arr_2)"
      ],
      "execution_count": 0,
      "outputs": [
        {
          "output_type": "stream",
          "text": [
            "[[2 4]\n",
            " [3 5]]\n"
          ],
          "name": "stdout"
        }
      ]
    },
    {
      "cell_type": "code",
      "metadata": {
        "id": "EAStEj2zgLic",
        "colab_type": "code",
        "colab": {},
        "outputId": "db10cea7-1096-48ea-a89b-c3324f7231d9"
      },
      "source": [
        "# selection\n",
        "\n",
        "array = np.arange(16, dtype= float).reshape(4,4)\n",
        "print(array)\n",
        "print(array[0,::-1])\n",
        "\n",
        "array[0, 2]  # slices like a list\n",
        "\n",
        "array[:, 2] # returns 1 dimensional array of column 2\n",
        "array[1,:] # returns 1d array of row 1\n",
        "array[:, 1:] # prints out all rows starting from column 1\n",
        "array[:, 1:3]\n",
        "array[:, [0,1,2,3]]"
      ],
      "execution_count": 0,
      "outputs": [
        {
          "output_type": "stream",
          "text": [
            "[[ 0.  1.  2.  3.]\n",
            " [ 4.  5.  6.  7.]\n",
            " [ 8.  9. 10. 11.]\n",
            " [12. 13. 14. 15.]]\n",
            "[3. 2. 1. 0.]\n"
          ],
          "name": "stdout"
        },
        {
          "output_type": "execute_result",
          "data": {
            "text/plain": [
              "array([[ 0.,  1.,  2.,  3.],\n",
              "       [ 4.,  5.,  6.,  7.],\n",
              "       [ 8.,  9., 10., 11.],\n",
              "       [12., 13., 14., 15.]])"
            ]
          },
          "metadata": {
            "tags": []
          },
          "execution_count": 110
        }
      ]
    },
    {
      "cell_type": "code",
      "metadata": {
        "id": "fkQlZq4DgLih",
        "colab_type": "code",
        "colab": {},
        "outputId": "d580a968-5cf8-42f7-d651-3f386004cc3b"
      },
      "source": [
        "array = np.arange(16, dtype= float).reshape(4,4)\n",
        "print(array)\n",
        "array2 = array[array>5]\n",
        "print(array2)"
      ],
      "execution_count": 0,
      "outputs": [
        {
          "output_type": "stream",
          "text": [
            "[[ 0.  1.  2.  3.]\n",
            " [ 4.  5.  6.  7.]\n",
            " [ 8.  9. 10. 11.]\n",
            " [12. 13. 14. 15.]]\n",
            "[ 6.  7.  8.  9. 10. 11. 12. 13. 14. 15.]\n"
          ],
          "name": "stdout"
        }
      ]
    },
    {
      "cell_type": "code",
      "metadata": {
        "id": "D3-WA4BbgLik",
        "colab_type": "code",
        "colab": {},
        "outputId": "cc69cd5d-f0a5-4e48-a87b-26b5ab920203"
      },
      "source": [
        "# Vectorized operation\n",
        "\n",
        "nums = np.arange(8)\n",
        "print(nums)\n",
        "nums2 = np.array([1,-2,-3,4,-5,6,-7,16])\n",
        "print(nums + np.arange(8)) # adds array elemnt wise\n",
        "print(print(nums*10)) \n",
        "print(np.sqrt(nums))\n",
        "#np.ceil(nums) # rounds the nearest integer\n",
        "\n",
        "# np.maximum(nums, np.array([1,-2,-3,4,-5,6,-7,17]))\n",
        "print(np.maximum(nums, nums2))"
      ],
      "execution_count": 0,
      "outputs": [
        {
          "output_type": "stream",
          "text": [
            "[0 1 2 3 4 5 6 7]\n",
            "[ 0  2  4  6  8 10 12 14]\n",
            "[ 0 10 20 30 40 50 60 70]\n",
            "None\n",
            "[0.         1.         1.41421356 1.73205081 2.         2.23606798\n",
            " 2.44948974 2.64575131]\n",
            "[ 1  1  2  4  4  6  6 16]\n"
          ],
          "name": "stdout"
        }
      ]
    },
    {
      "cell_type": "code",
      "metadata": {
        "id": "GMwk-BFIgLin",
        "colab_type": "code",
        "colab": {
          "base_uri": "https://localhost:8080/",
          "height": 35
        },
        "outputId": "0ba69cd4-a195-466f-a221-54d2e6494c34"
      },
      "source": [
        "# compute euclidean distance between two vectors\n",
        "\n",
        "# euclidean distance : The distance between two vectors is defined as the square root of the sum of the squares of the \n",
        "# differences between the corresponding coordinates of the vector\n",
        "\n",
        "vec_one = np.random.randn(10)\n",
        "vec_two= np.random.randn(10)\n",
        "\n",
        "distance = np.sqrt(np.sum((vec_one - vec_two) ** 2))\n",
        "print(distance)"
      ],
      "execution_count": 7,
      "outputs": [
        {
          "output_type": "stream",
          "text": [
            "4.365192721683422\n"
          ],
          "name": "stdout"
        }
      ]
    },
    {
      "cell_type": "code",
      "metadata": {
        "id": "joT-EcvxgLiq",
        "colab_type": "code",
        "colab": {},
        "outputId": "0a806148-5616-4087-9482-80de2da63ae9"
      },
      "source": [
        "rnd = np.random.randn(8, 4)\n",
        "print(rnd)\n",
        "\n",
        "print(rnd.std()) # measures the spread of the array\n",
        "print(rnd.argmin()) # gives the index of minimum element of array\n",
        "print(rnd.argmax()) # gives index of maximum value\n",
        "print(rnd.sum(axis=0)) # will give a array containg sum of all the columns\n",
        "print(rnd.sum(axis=1)) # gives the sum of rows\n",
        "print((rnd > 0).sum()) # returns number of positive values\n",
        "print((rnd> 0).any()) # check if any value is true\n",
        "print((rnd> 0).all()) # check if all the values are true\n",
        "print(np.random.seed(12234)) # will set the seed\n"
      ],
      "execution_count": 0,
      "outputs": [
        {
          "output_type": "stream",
          "text": [
            "[[-0.53481712  0.18558172  0.38014325  1.18388892]\n",
            " [-1.47121459 -1.11701449 -2.13818035 -1.07230259]\n",
            " [ 0.82449002  0.55090109 -1.32740791  0.34634166]\n",
            " [-0.04898868 -0.7457014   0.55881044  0.80033756]\n",
            " [-1.44891463 -0.1349495  -0.21602693  0.60164279]\n",
            " [-0.04178484 -0.23766393  1.25964033  1.15320544]\n",
            " [-0.04862288 -0.34317779  0.35593984 -0.66206705]\n",
            " [-0.16498907  0.09214453  0.05056265 -0.05840095]]\n",
            "0.8144939726520622\n",
            "6\n",
            "22\n",
            "[-2.93484178 -1.74987976 -1.07651868  2.29264579]\n",
            "[ 1.21479678 -5.79871202  0.39432485  0.56445793 -1.19824826  2.133397\n",
            " -0.69792788 -0.08068283]\n",
            "14\n",
            "True\n",
            "False\n",
            "None\n"
          ],
          "name": "stdout"
        }
      ]
    },
    {
      "cell_type": "code",
      "metadata": {
        "id": "VPzZtiR2gLit",
        "colab_type": "code",
        "colab": {}
      },
      "source": [
        "np.random.seed(12234) "
      ],
      "execution_count": 0,
      "outputs": []
    },
    {
      "cell_type": "code",
      "metadata": {
        "id": "-gaDzoGDgLiw",
        "colab_type": "code",
        "colab": {},
        "outputId": "c186d543-09b6-4c65-edcf-b854be125e89"
      },
      "source": [
        "array= np.array([[ 0, 0, 0],\n",
        "                 [10,10,10],\n",
        "                 [20,20,20],\n",
        "                 [30,30,30]])\n",
        "\n",
        "array2 = np.array([5,6,7])\n",
        "\n",
        "print(array + array2)\n",
        "            "
      ],
      "execution_count": 0,
      "outputs": [
        {
          "output_type": "stream",
          "text": [
            "[[ 5  6  7]\n",
            " [15 16 17]\n",
            " [25 26 27]\n",
            " [35 36 37]]\n"
          ],
          "name": "stdout"
        }
      ]
    },
    {
      "cell_type": "code",
      "metadata": {
        "id": "7H3l8tJLgLi0",
        "colab_type": "code",
        "colab": {},
        "outputId": "b40c9cc1-607a-4481-acd1-6137e3931870"
      },
      "source": [
        "array= np.array([[ 0],\n",
        "                 [10],\n",
        "                 [20],\n",
        "                 [30]])\n",
        "\n",
        "array2 = np.array([5,6,7])\n",
        "\n",
        "print(array + array2)"
      ],
      "execution_count": 0,
      "outputs": [
        {
          "output_type": "stream",
          "text": [
            "[[ 5  6  7]\n",
            " [15 16 17]\n",
            " [25 26 27]\n",
            " [35 36 37]]\n"
          ],
          "name": "stdout"
        }
      ]
    },
    {
      "cell_type": "markdown",
      "metadata": {
        "id": "KLhukrr5gLi5",
        "colab_type": "text"
      },
      "source": [
        "4.8 : Exercise"
      ]
    },
    {
      "cell_type": "code",
      "metadata": {
        "id": "Ip7dnY8cgLi6",
        "colab_type": "code",
        "colab": {
          "base_uri": "https://localhost:8080/",
          "height": 125
        },
        "outputId": "333c5d45-132a-4b20-99b3-1fcef8bd021b"
      },
      "source": [
        "array8 = np.random.randn(4,2)\n",
        "print(array8)\n",
        "\n",
        "# for each column find the row index of the minimum value\n",
        "\n",
        "print(array8[:,0].argmin())  # prints out the row index of the minimum value in column 1\n",
        "print(array8[:,1].argmin())\n",
        "\n"
      ],
      "execution_count": 9,
      "outputs": [
        {
          "output_type": "stream",
          "text": [
            "[[-1.65860357 -1.09485316]\n",
            " [-0.49592552 -0.67829803]\n",
            " [-0.27465854 -0.58919848]\n",
            " [ 0.36432246 -0.64890603]]\n",
            "0\n",
            "0\n"
          ],
          "name": "stdout"
        }
      ]
    },
    {
      "cell_type": "code",
      "metadata": {
        "id": "UFzIGSqKizEp",
        "colab_type": "code",
        "colab": {
          "base_uri": "https://localhost:8080/",
          "height": 35
        },
        "outputId": "b03bb2dc-161e-477c-bcde-87ac61cc9309"
      },
      "source": [
        "  ## Another way of doing the same question. \n",
        "array8.argmin(axis=0)"
      ],
      "execution_count": 10,
      "outputs": [
        {
          "output_type": "execute_result",
          "data": {
            "text/plain": [
              "array([0, 0])"
            ]
          },
          "metadata": {
            "tags": []
          },
          "execution_count": 10
        }
      ]
    },
    {
      "cell_type": "code",
      "metadata": {
        "id": "LXmxzmIygLi9",
        "colab_type": "code",
        "colab": {
          "base_uri": "https://localhost:8080/",
          "height": 89
        },
        "outputId": "1b1941eb-b5f5-4d8d-beac-1004864cbd9c"
      },
      "source": [
        "def standarize(x):\n",
        "  \n",
        "  x_std = x - np.mean(x, axis=0)/np.std(x, axis = 0)  # subtract the mean of the column and divide by \n",
        "                                                       # standard division\n",
        "  return x_std\n",
        "\n",
        "print(standarize(array8))\n",
        "\n"
      ],
      "execution_count": 11,
      "outputs": [
        {
          "output_type": "stream",
          "text": [
            "[[-0.95270847  2.66791945]\n",
            " [ 0.20996958  3.08447458]\n",
            " [ 0.43123656  3.17357413]\n",
            " [ 1.07021755  3.11386658]]\n"
          ],
          "name": "stdout"
        }
      ]
    },
    {
      "cell_type": "code",
      "metadata": {
        "id": "LnNzTdfygLi_",
        "colab_type": "code",
        "colab": {
          "base_uri": "https://localhost:8080/",
          "height": 136
        },
        "outputId": "d17648f3-baa4-4622-f871-52c690f4b156"
      },
      "source": [
        "  ##    5 others commands \n",
        "  \n",
        "  \n",
        "  np.array_equal(a1, a2)  # True if two arrays have the same shape and elements, False otherwise.\n",
        "  np.full((2,3),8) #  2x3 array with all values of 8 \n",
        "  np.eye(5) #  5x5 array of 0 with 1 on diagonal  i.e Identity matrix\n",
        "  \n",
        "  np.copy(arr)  #   Copies arr to new memory\n",
        "  \n",
        "  \n",
        "  "
      ],
      "execution_count": 12,
      "outputs": [
        {
          "output_type": "error",
          "ename": "SyntaxError",
          "evalue": "ignored",
          "traceback": [
            "\u001b[0;36m  File \u001b[0;32m\"<ipython-input-12-35d01bfee459>\"\u001b[0;36m, line \u001b[0;32m10\u001b[0m\n\u001b[0;31m    np.split(arr,3) | Splits arr into 3 sub-arrays\u001b[0m\n\u001b[0m                               ^\u001b[0m\n\u001b[0;31mSyntaxError\u001b[0m\u001b[0;31m:\u001b[0m invalid syntax\n"
          ]
        }
      ]
    },
    {
      "cell_type": "code",
      "metadata": {
        "id": "WR-lw8XKmwHk",
        "colab_type": "code",
        "colab": {
          "base_uri": "https://localhost:8080/",
          "height": 143
        },
        "outputId": "c4383ec8-1fc7-4b47-bcbd-9b828659217a"
      },
      "source": [
        "test_array = np.ones((4,4))\n",
        "print(test_array)\n",
        "np.split(test_array,2) # Splits array into 2 sub-arrays"
      ],
      "execution_count": 19,
      "outputs": [
        {
          "output_type": "stream",
          "text": [
            "[[1. 1. 1. 1.]\n",
            " [1. 1. 1. 1.]\n",
            " [1. 1. 1. 1.]\n",
            " [1. 1. 1. 1.]]\n"
          ],
          "name": "stdout"
        },
        {
          "output_type": "execute_result",
          "data": {
            "text/plain": [
              "[array([[1., 1., 1., 1.],\n",
              "        [1., 1., 1., 1.]]), array([[1., 1., 1., 1.],\n",
              "        [1., 1., 1., 1.]])]"
            ]
          },
          "metadata": {
            "tags": []
          },
          "execution_count": 19
        }
      ]
    },
    {
      "cell_type": "code",
      "metadata": {
        "id": "YJ6gDX5jnwm7",
        "colab_type": "code",
        "colab": {}
      },
      "source": [
        " #    numpy broadcasting \n",
        "  # numpy broadcasting  allow array arithmetic between arrays with a different shape or size.\n",
        "   #If the two arrays differ in their number of dimensions, the shape of the one with fewer \n",
        "    # dimensions is padded with ones on its leading (left) side.\n",
        "  # both array can be padded at the same time"
      ],
      "execution_count": 0,
      "outputs": []
    }
  ]
}